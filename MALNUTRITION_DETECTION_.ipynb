{
  "nbformat": 4,
  "nbformat_minor": 0,
  "metadata": {
    "colab": {
      "provenance": []
    },
    "kernelspec": {
      "name": "python3",
      "display_name": "Python 3"
    },
    "language_info": {
      "name": "python"
    }
  },
  "cells": [
    {
      "cell_type": "code",
      "source": [
        "import pandas as pd\n",
        "from sklearn.cluster import KMeans\n",
        "from sklearn.model_selection import train_test_split, GridSearchCV\n",
        "from sklearn.ensemble import GradientBoostingClassifier\n",
        "from sklearn.metrics import accuracy_score, confusion_matrix, classification_report\n",
        "from sklearn.preprocessing import StandardScaler\n",
        "from imblearn.over_sampling import SMOTE\n",
        "import matplotlib.pyplot as plt\n",
        "import seaborn as sns\n",
        "from sklearn.preprocessing import LabelEncoder\n",
        "# Step 1: Clustering\n",
        "df = pd.read_csv('DDATA250.csv')\n",
        "X_clustering = df[['gender', 'age', 'height', 'weight']]\n",
        "kmeans = KMeans(n_clusters=3, random_state=42)\n",
        "df['cluster_label'] = kmeans.fit_predict(X_clustering)\n",
        "\n",
        "# Step 2: Classification\n",
        "X_classification = pd.concat([X_clustering, pd.get_dummies(df['cluster_label'], prefix='cluster')], axis=1)\n",
        "y = df['nutri_status']\n",
        "le = LabelEncoder()\n",
        "le.fit(y)\n",
        "# Addressing Class Imbalance\n",
        "smote = SMOTE(random_state=42)\n",
        "X_resampled, y_resampled = smote.fit_resample(X_classification, y)\n",
        "\n",
        "# Splitting data into training and testing sets\n",
        "X_train, X_test, y_train, y_test = train_test_split(X_resampled, y_resampled, test_size=0.2, random_state=42)\n",
        "\n",
        "# Feature Scaling\n",
        "scaler = StandardScaler()\n",
        "X_train_scaled = scaler.fit_transform(X_train)\n",
        "X_test_scaled = scaler.transform(X_test)\n",
        "\n",
        "# Hyperparameter Tuning for Gradient Boosting Classifier\n",
        "param_grid = {'n_estimators': [50, 100, 200],\n",
        "              'learning_rate': [0.01, 0.1, 0.5],\n",
        "              'max_depth': [3, 5, 7]}\n",
        "gb_classifier = GradientBoostingClassifier(random_state=42)\n",
        "grid_search = GridSearchCV(gb_classifier, param_grid, cv=5)\n",
        "grid_search.fit(X_train_scaled, y_train)\n",
        "best_gb_classifier = grid_search.best_estimator_\n",
        "\n",
        "# Training the model\n",
        "best_gb_classifier.fit(X_train_scaled, y_train)\n",
        "\n",
        "# Predicting and evaluating\n",
        "y_pred = best_gb_classifier.predict(X_test_scaled)\n",
        "accuracy = accuracy_score(y_test, y_pred)\n",
        "print(\"Accuracy:\", accuracy)\n",
        "\n",
        "# Classification report\n",
        "print(\"\\nClassification Report:\")\n",
        "print(classification_report(y_test, y_pred))\n",
        "\n",
        "# Confusion matrix\n",
        "conf_matrix = confusion_matrix(y_test, y_pred)\n",
        "print(\"\\nConfusion Matrix:\")\n",
        "print(conf_matrix)\n",
        "# Visualize the confusion matrix\n",
        "plt.figure(figsize=(5, 5))\n",
        "sns.heatmap(conf_matrix, annot=True, fmt='d', cmap='cividis', cbar=False,\n",
        "            xticklabels=le.classes_, yticklabels=le.classes_)\n",
        "plt.title('Confusion Matrix')\n",
        "plt.xlabel('Predicted Label')\n",
        "plt.ylabel('True Label')\n",
        "plt.show()"
      ],
      "metadata": {
        "colab": {
          "base_uri": "https://localhost:8080/",
          "height": 854
        },
        "id": "TgX_iURQtePq",
        "outputId": "fff31144-c670-4c24-e457-c934f15c95d2"
      },
      "execution_count": null,
      "outputs": [
        {
          "output_type": "stream",
          "name": "stderr",
          "text": [
            "/usr/local/lib/python3.10/dist-packages/sklearn/cluster/_kmeans.py:870: FutureWarning: The default value of `n_init` will change from 10 to 'auto' in 1.4. Set the value of `n_init` explicitly to suppress the warning\n",
            "  warnings.warn(\n"
          ]
        },
        {
          "output_type": "stream",
          "name": "stdout",
          "text": [
            "Accuracy: 0.9745762711864406\n",
            "\n",
            "Classification Report:\n",
            "              precision    recall  f1-score   support\n",
            "\n",
            "         MAM       0.92      1.00      0.96        34\n",
            "           N       1.00      0.95      0.98        44\n",
            "         SAM       1.00      0.97      0.99        40\n",
            "\n",
            "    accuracy                           0.97       118\n",
            "   macro avg       0.97      0.98      0.97       118\n",
            "weighted avg       0.98      0.97      0.97       118\n",
            "\n",
            "\n",
            "Confusion Matrix:\n",
            "[[34  0  0]\n",
            " [ 2 42  0]\n",
            " [ 1  0 39]]\n"
          ]
        },
        {
          "output_type": "display_data",
          "data": {
            "text/plain": [
              "<Figure size 500x500 with 1 Axes>"
            ],
            "image/png": "[encoded data removed]"
          },
          "metadata": {}
        }
      ]
    },
    {
      "cell_type": "markdown",
      "source": [
        "We've switched to using a Gradient Boosting classifier and performed hyperparameter tuning using GridSearchCV to find the best parameters.\n",
        "We've also applied feature scaling to the input data before training the model.\n",
        "Run this code to see if these changes improve the accuracy of your model. You can further experiment with different hyperparameters, feature engineering techniques, or ensemble methods to potentially achieve higher accuracy."
      ],
      "metadata": {
        "id": "EvsngEBht8OY"
      }
    }
  ]
}